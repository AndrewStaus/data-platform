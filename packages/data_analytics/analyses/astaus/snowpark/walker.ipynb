{
 "cells": [
  {
   "cell_type": "code",
   "execution_count": null,
   "id": "8989916c",
   "metadata": {},
   "outputs": [],
   "source": [
    "from analytics_utils.snowpark import display, session\n",
    "from snowflake.snowpark import functions as F"
   ]
  },
  {
   "cell_type": "code",
   "execution_count": null,
   "id": "e0f8db02",
   "metadata": {},
   "outputs": [],
   "source": [
    "df = session.sql(\"\"\" --begin-sql\n",
    "    select * from _dev_analytics.open_data__astaus.titanic\n",
    "\"\"\")"
   ]
  },
  {
   "cell_type": "code",
   "execution_count": null,
   "id": "dee43655",
   "metadata": {},
   "outputs": [],
   "source": [
    "df = session.table(\"_dev_analytics.open_data__astaus.titanic\")"
   ]
  },
  {
   "cell_type": "code",
   "execution_count": null,
   "id": "42368958",
   "metadata": {},
   "outputs": [],
   "source": [
    "display(df)"
   ]
  }
 ],
 "metadata": {
  "kernelspec": {
   "display_name": "data-analytics (3.10.19)",
   "language": "python",
   "name": "python3"
  },
  "language_info": {
   "codemirror_mode": {
    "name": "ipython",
    "version": 3
   },
   "file_extension": ".py",
   "mimetype": "text/x-python",
   "name": "python",
   "nbconvert_exporter": "python",
   "pygments_lexer": "ipython3",
   "version": "3.10.19"
  }
 },
 "nbformat": 4,
 "nbformat_minor": 5
}
