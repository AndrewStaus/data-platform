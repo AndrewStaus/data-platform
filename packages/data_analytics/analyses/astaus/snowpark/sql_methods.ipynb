{
 "cells": [
  {
   "cell_type": "code",
   "execution_count": 3,
   "id": "d4a94f90",
   "metadata": {},
   "outputs": [],
   "source": [
    "from analytics_utils.snowpark import display, session\n",
    "from snowflake.snowpark import functions as F"
   ]
  },
  {
   "cell_type": "markdown",
   "id": "5c4a5553",
   "metadata": {},
   "source": [
    "Dataframe API"
   ]
  },
  {
   "cell_type": "code",
   "execution_count": 4,
   "id": "2efdc00f",
   "metadata": {},
   "outputs": [],
   "source": [
    "df2 = session.table(\"_dev_analytics.open_data__astaus.titanic\")"
   ]
  },
  {
   "cell_type": "markdown",
   "id": "a16df0d6",
   "metadata": {},
   "source": [
    "SQL API"
   ]
  },
  {
   "cell_type": "code",
   "execution_count": 5,
   "id": "8f9def43",
   "metadata": {},
   "outputs": [],
   "source": [
    "df1 = session.sql(\"\"\" --begin-sql\n",
    "    select * from _dev_analytics.open_data__astaus.titanic\n",
    "\"\"\")"
   ]
  },
  {
   "cell_type": "markdown",
   "id": "8d3d0079",
   "metadata": {},
   "source": [
    "SQL Magic"
   ]
  },
  {
   "cell_type": "code",
   "execution_count": 6,
   "id": "8f262db5",
   "metadata": {},
   "outputs": [],
   "source": [
    "%%sql df3\n",
    "\n",
    "select\n",
    "    *\n",
    "from _dev_analytics.open_data__astaus.titanic"
   ]
  },
  {
   "cell_type": "code",
   "execution_count": 9,
   "id": "156d993e",
   "metadata": {},
   "outputs": [
    {
     "name": "stdout",
     "output_type": "stream",
     "text": [
      "------------------------------------------------------------------------------------------------------------------------------------------------------------------------------------\n",
      "|\"PCLASS\"  |\"NAME\"                           |\"SEX\"   |\"AGE\"  |\"SIBSP\"  |\"PARCH\"  |\"TICKET\"           |\"FARE\"  |\"CABIN\"  |\"EMBARKED\"  |\"BOAT\"  |\"BODY\"  |\"HOME_DEST\"  |\"SURVIVED\"  |\n",
      "------------------------------------------------------------------------------------------------------------------------------------------------------------------------------------\n",
      "|3         |Spector, Mr. Woolf               |male    |NULL   |0        |0        |A.5. 3236          |8.05    |NULL     |S           |NULL    |NULL    |NULL         |0           |\n",
      "|3         |Spinner, Mr. Henry John          |male    |32.0   |0        |0        |STON/OQ. 369943    |8.05    |NULL     |S           |NULL    |NULL    |NULL         |0           |\n",
      "|3         |Staneff, Mr. Ivan                |male    |NULL   |0        |0        |349208             |7.8958  |NULL     |S           |NULL    |NULL    |NULL         |0           |\n",
      "|3         |Stankovic, Mr. Ivan              |male    |33.0   |0        |0        |349239             |8.6625  |NULL     |C           |NULL    |NULL    |NULL         |0           |\n",
      "|3         |Stanley, Miss. Amy Zillah Elsie  |female  |23.0   |0        |0        |CA. 2314           |7.55    |NULL     |S           |C       |NULL    |NULL         |1           |\n",
      "|3         |Stanley, Mr. Edward Roland       |male    |21.0   |0        |0        |A/4 45380          |8.05    |NULL     |S           |NULL    |NULL    |NULL         |0           |\n",
      "|3         |Storey, Mr. Thomas               |male    |60.5   |0        |0        |3701               |NULL    |NULL     |S           |NULL    |261.0   |NULL         |0           |\n",
      "|3         |Stoytcheff, Mr. Ilia             |male    |19.0   |0        |0        |349205             |7.8958  |NULL     |S           |NULL    |NULL    |NULL         |0           |\n",
      "|3         |Strandberg, Miss. Ida Sofia      |female  |22.0   |0        |0        |7553               |9.8375  |NULL     |S           |NULL    |NULL    |NULL         |0           |\n",
      "|3         |Stranden, Mr. Juho               |male    |31.0   |0        |0        |STON/O 2. 3101288  |7.925   |NULL     |S           |9       |NULL    |NULL         |1           |\n",
      "------------------------------------------------------------------------------------------------------------------------------------------------------------------------------------\n",
      "\n"
     ]
    }
   ],
   "source": [
    "df3.show()"
   ]
  }
 ],
 "metadata": {
  "kernelspec": {
   "display_name": "data-analytics (3.10.19)",
   "language": "python",
   "name": "python3"
  },
  "language_info": {
   "codemirror_mode": {
    "name": "ipython",
    "version": 3
   },
   "file_extension": ".py",
   "mimetype": "text/x-python",
   "name": "python",
   "nbconvert_exporter": "python",
   "pygments_lexer": "ipython3",
   "version": "3.10.19"
  }
 },
 "nbformat": 4,
 "nbformat_minor": 5
}
