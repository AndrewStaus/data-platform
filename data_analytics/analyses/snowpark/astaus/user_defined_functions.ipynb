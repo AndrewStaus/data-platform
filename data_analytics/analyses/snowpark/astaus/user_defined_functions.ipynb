{
 "cells": [
  {
   "cell_type": "code",
   "execution_count": 3,
   "id": "61e100af",
   "metadata": {},
   "outputs": [],
   "source": [
    "from analytics_utils.snowpark import display, session\n",
    "from faker import Faker\n",
    "from snowflake.snowpark import functions as F"
   ]
  },
  {
   "cell_type": "code",
   "execution_count": 4,
   "id": "3eb72a0e",
   "metadata": {},
   "outputs": [
    {
     "name": "stderr",
     "output_type": "stream",
     "text": [
      "The version of package 'faker' in the local environment is 37.11.0, which does not fit the criteria for the requirement 'faker'. Your UDF might not work when the package version is different between the server and your local environment.\n"
     ]
    }
   ],
   "source": [
    "session.add_packages([\"faker\"])\n",
    "session.use_role(\"data_analyst\")"
   ]
  },
  {
   "cell_type": "code",
   "execution_count": 5,
   "id": "24fb2543",
   "metadata": {},
   "outputs": [],
   "source": [
    "fake = Faker()\n",
    "\n",
    "@F.udf\n",
    "def syn_first_name(col: str) -> str:\n",
    "    fake.seed_locale(\"en_US\", col)\n",
    "    return fake.first_name()\n",
    "\n",
    "@F.udf\n",
    "def syn_last_name(col: str) -> str:\n",
    "    fake.seed_locale(\"en_US\", col)\n",
    "    return fake.last_name()"
   ]
  },
  {
   "cell_type": "code",
   "execution_count": 7,
   "id": "c7e4c203",
   "metadata": {},
   "outputs": [
    {
     "data": {
      "application/vnd.jupyter.widget-view+json": {
       "model_id": "8d6c4afb03b24912bdcf87345d77ec69",
       "version_major": 2,
       "version_minor": 0
      },
      "text/plain": [
       "Box(children=(HTML(value='\\n<div id=\"ifr-pyg-000640c76fda8a002VvlJs4aBA1iPdOI\" style=\"height: auto\">\\n    <hea…"
      ]
     },
     "metadata": {},
     "output_type": "display_data"
    },
    {
     "data": {
      "text/html": [
       "<script>\n",
       "    window.addEventListener(\"message\", function(event) {\n",
       "        const backgroundMap = {\n",
       "            \"dark\": \"hsl(240 10% 3.9%)\",\n",
       "            \"light\": \"hsl(0 0 100%)\",\n",
       "        };\n",
       "        const colorMap = {\n",
       "            \"dark\": \"hsl(0 0% 98%)\",\n",
       "            \"light\": \"hsl(240 10% 3.9%)\",\n",
       "        };\n",
       "        if (event.data.action === \"changeAppearance\" && event.data.gid === \"000640c76fda8a002VvlJs4aBA1iPdOI\") {\n",
       "            var iframe = document.getElementById(\"gwalker-000640c76fda8a002VvlJs4aBA1iPdOI\");\n",
       "            iframe.style.background  = backgroundMap[event.data.appearance];\n",
       "            iframe.style.color = colorMap[event.data.appearance];\n",
       "        }\n",
       "    });\n",
       "</script>"
      ],
      "text/plain": [
       "<IPython.core.display.HTML object>"
      ]
     },
     "metadata": {},
     "output_type": "display_data"
    },
    {
     "data": {
      "text/html": [],
      "text/plain": [
       "<IPython.core.display.HTML object>"
      ]
     },
     "metadata": {},
     "output_type": "display_data"
    }
   ],
   "source": [
    "df = session.table(\"analytics.accounts_db.accounts\")\n",
    "display(df)"
   ]
  },
  {
   "cell_type": "code",
   "execution_count": 8,
   "id": "42ecc382",
   "metadata": {},
   "outputs": [
    {
     "data": {
      "application/vnd.jupyter.widget-view+json": {
       "model_id": "52a1724eda3a47698f998e0ae4627ac0",
       "version_major": 2,
       "version_minor": 0
      },
      "text/plain": [
       "Box(children=(HTML(value='\\n<div id=\"ifr-pyg-000640c7708ec66bYexOKMk6XPJvShra\" style=\"height: auto\">\\n    <hea…"
      ]
     },
     "metadata": {},
     "output_type": "display_data"
    },
    {
     "data": {
      "text/html": [
       "<script>\n",
       "    window.addEventListener(\"message\", function(event) {\n",
       "        const backgroundMap = {\n",
       "            \"dark\": \"hsl(240 10% 3.9%)\",\n",
       "            \"light\": \"hsl(0 0 100%)\",\n",
       "        };\n",
       "        const colorMap = {\n",
       "            \"dark\": \"hsl(0 0% 98%)\",\n",
       "            \"light\": \"hsl(240 10% 3.9%)\",\n",
       "        };\n",
       "        if (event.data.action === \"changeAppearance\" && event.data.gid === \"000640c7708ec66bYexOKMk6XPJvShra\") {\n",
       "            var iframe = document.getElementById(\"gwalker-000640c7708ec66bYexOKMk6XPJvShra\");\n",
       "            iframe.style.background  = backgroundMap[event.data.appearance];\n",
       "            iframe.style.color = colorMap[event.data.appearance];\n",
       "        }\n",
       "    });\n",
       "</script>"
      ],
      "text/plain": [
       "<IPython.core.display.HTML object>"
      ]
     },
     "metadata": {},
     "output_type": "display_data"
    },
    {
     "data": {
      "text/html": [],
      "text/plain": [
       "<IPython.core.display.HTML object>"
      ]
     },
     "metadata": {},
     "output_type": "display_data"
    }
   ],
   "source": [
    "display(df\n",
    "    .with_column(\n",
    "        \"account_first_name\",\n",
    "        F.lower(syn_first_name(F.col(\"account_first_name\")))\n",
    "    )\n",
    "    .with_column(\n",
    "        \"account_last_name\",\n",
    "        F.lower(syn_last_name(F.col(\"account_last_name\")))\n",
    "    )\n",
    "    .select(\n",
    "        \"account_id\",\n",
    "        \"account_first_name\",\n",
    "        \"account_last_name\",\n",
    "        \"indvidual_party_key\",\n",
    "    )\n",
    ")"
   ]
  }
 ],
 "metadata": {
  "kernelspec": {
   "display_name": ".venv",
   "language": "python",
   "name": "python3"
  },
  "language_info": {
   "codemirror_mode": {
    "name": "ipython",
    "version": 3
   },
   "file_extension": ".py",
   "mimetype": "text/x-python",
   "name": "python",
   "nbconvert_exporter": "python",
   "pygments_lexer": "ipython3",
   "version": "3.10.9"
  }
 },
 "nbformat": 4,
 "nbformat_minor": 5
}
