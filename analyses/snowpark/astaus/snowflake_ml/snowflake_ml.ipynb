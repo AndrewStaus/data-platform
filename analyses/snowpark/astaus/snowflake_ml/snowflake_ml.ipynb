{
 "cells": [
  {
   "cell_type": "markdown",
   "id": "d1784190",
   "metadata": {},
   "source": [
    "# Snowflake ML using Warehouse Compute"
   ]
  },
  {
   "cell_type": "markdown",
   "id": "50517ef8",
   "metadata": {},
   "source": [
    "# Create Session"
   ]
  },
  {
   "cell_type": "code",
   "execution_count": 1,
   "id": "61e100af",
   "metadata": {},
   "outputs": [
    {
     "name": "stderr",
     "output_type": "stream",
     "text": [
      "c:\\Users\\Andrew\\Code\\data_platform\\.venv\\lib\\site-packages\\snowflake\\snowpark\\_internal\\packaging_utils.py:18: UserWarning: pkg_resources is deprecated as an API. See https://setuptools.pypa.io/en/latest/pkg_resources.html. The pkg_resources package is slated for removal as early as 2025-11-30. Refrain from using this package or pin to Setuptools<81.\n",
      "  import pkg_resources\n"
     ]
    },
    {
     "name": "stdout",
     "output_type": "stream",
     "text": [
      "session_id: 944609337499738\n",
      "version: 1.36.0\n",
      "database: \"_DEV_ANALYTICS\"\n",
      "schema: \"ASTAUS\"\n",
      "user: \"astaus\"\n"
     ]
    }
   ],
   "source": [
    "from config import get_snowpark_session\n",
    "\n",
    "session = get_snowpark_session()"
   ]
  },
  {
   "cell_type": "markdown",
   "id": "9ca440af",
   "metadata": {},
   "source": [
    "# Load Data"
   ]
  },
  {
   "cell_type": "code",
   "execution_count": 2,
   "id": "cb8a5279",
   "metadata": {},
   "outputs": [],
   "source": [
    "from snowflake.snowpark import functions as F"
   ]
  },
  {
   "cell_type": "code",
   "execution_count": 3,
   "id": "c7e4c203",
   "metadata": {},
   "outputs": [],
   "source": [
    "df = (\n",
    "    session.table([\"_dev_analytics\", \"transaction_db__astaus\", \"transactions\"])\n",
    "    .select(\n",
    "        \"sales_channel\",\n",
    "        F.col(\"transaction_revenue\").cast(\"double\").alias(\"transaction_revenue\"),\n",
    "        F.col(\"transaction_margin\").cast(\"double\").alias(\"transaction_margin\"),\n",
    "    )\n",
    ")"
   ]
  },
  {
   "cell_type": "markdown",
   "id": "f2aa2fd8",
   "metadata": {},
   "source": [
    "# Exploratory Data Analysis"
   ]
  },
  {
   "cell_type": "code",
   "execution_count": 4,
   "id": "b8ad4b1e",
   "metadata": {},
   "outputs": [],
   "source": [
    "import seaborn as sns\n",
    "from matplotlib import pyplot as plt\n",
    "from snowflake.ml.modeling.metrics.correlation import correlation\n"
   ]
  },
  {
   "cell_type": "code",
   "execution_count": 5,
   "id": "9357a6c7",
   "metadata": {},
   "outputs": [
    {
     "name": "stdout",
     "output_type": "stream",
     "text": [
      "------------------------------------------------------------------\n",
      "|\"SALES_CHANNEL\"  |\"TRANSACTION_REVENUE\"  |\"TRANSACTION_MARGIN\"  |\n",
      "------------------------------------------------------------------\n",
      "|web              |500.0                  |50.0                  |\n",
      "|web              |500.0                  |50.0                  |\n",
      "|web              |500.0                  |50.0                  |\n",
      "|web              |500.0                  |50.0                  |\n",
      "|store            |500.0                  |50.0                  |\n",
      "|store            |500.0                  |50.0                  |\n",
      "|store            |500.0                  |50.0                  |\n",
      "|store            |500.0                  |50.0                  |\n",
      "------------------------------------------------------------------\n",
      "\n"
     ]
    }
   ],
   "source": [
    "df.show()"
   ]
  },
  {
   "cell_type": "code",
   "execution_count": 7,
   "id": "2f1ba236",
   "metadata": {},
   "outputs": [],
   "source": [
    "session.use_schema(\"transaction_db__astaus\")"
   ]
  },
  {
   "cell_type": "code",
   "execution_count": 25,
   "id": "f7703bd0",
   "metadata": {},
   "outputs": [
    {
     "data": {
      "text/plain": [
       "0.9999999999999991"
      ]
     },
     "execution_count": 25,
     "metadata": {},
     "output_type": "execute_result"
    }
   ],
   "source": [
    "df2 = session.create_dataframe([[0.1, 0.5], [0.2, 0.6], [0.3, 0.7]], schema=[\"a\", \"b\"])\n",
    "df2.stat.corr(\"a\", \"b\")"
   ]
  },
  {
   "cell_type": "code",
   "execution_count": 26,
   "id": "64017932",
   "metadata": {},
   "outputs": [
    {
     "data": {
      "text/plain": [
       "0.010000000000000037"
      ]
     },
     "execution_count": 26,
     "metadata": {},
     "output_type": "execute_result"
    }
   ],
   "source": [
    "df2.stat.cov(\"a\", \"b\")"
   ]
  },
  {
   "cell_type": "code",
   "execution_count": 32,
   "id": "75776e0e",
   "metadata": {},
   "outputs": [
    {
     "data": {
      "text/plain": [
       "[('SALES_CHANNEL', 'string(25)'),\n",
       " ('TRANSACTION_REVENUE', 'double'),\n",
       " ('TRANSACTION_MARGIN', 'double')]"
      ]
     },
     "execution_count": 32,
     "metadata": {},
     "output_type": "execute_result"
    }
   ],
   "source": [
    "df.dtypes"
   ]
  },
  {
   "cell_type": "code",
   "execution_count": 31,
   "id": "41a8a538",
   "metadata": {},
   "outputs": [
    {
     "data": {
      "text/plain": [
       "[('A', 'double'), ('B', 'double')]"
      ]
     },
     "execution_count": 31,
     "metadata": {},
     "output_type": "execute_result"
    }
   ],
   "source": [
    "df2.dtypes"
   ]
  },
  {
   "cell_type": "code",
   "execution_count": 33,
   "id": "843151e4",
   "metadata": {},
   "outputs": [],
   "source": [
    "df.stat.corr(\"TRANSACTION_REVENUE\", \"TRANSACTION_MARGIN\")"
   ]
  },
  {
   "cell_type": "code",
   "execution_count": 35,
   "id": "c7cdd1f3",
   "metadata": {},
   "outputs": [
    {
     "data": {
      "text/html": [
       "<div>\n",
       "<style scoped>\n",
       "    .dataframe tbody tr th:only-of-type {\n",
       "        vertical-align: middle;\n",
       "    }\n",
       "\n",
       "    .dataframe tbody tr th {\n",
       "        vertical-align: top;\n",
       "    }\n",
       "\n",
       "    .dataframe thead th {\n",
       "        text-align: right;\n",
       "    }\n",
       "</style>\n",
       "<table border=\"1\" class=\"dataframe\">\n",
       "  <thead>\n",
       "    <tr style=\"text-align: right;\">\n",
       "      <th></th>\n",
       "      <th>TRANSACTION_REVENUE</th>\n",
       "      <th>TRANSACTION_MARGIN</th>\n",
       "    </tr>\n",
       "  </thead>\n",
       "  <tbody>\n",
       "    <tr>\n",
       "      <th>TRANSACTION_REVENUE</th>\n",
       "      <td>NaN</td>\n",
       "      <td>NaN</td>\n",
       "    </tr>\n",
       "    <tr>\n",
       "      <th>TRANSACTION_MARGIN</th>\n",
       "      <td>NaN</td>\n",
       "      <td>NaN</td>\n",
       "    </tr>\n",
       "  </tbody>\n",
       "</table>\n",
       "</div>"
      ],
      "text/plain": [
       "                     TRANSACTION_REVENUE  TRANSACTION_MARGIN\n",
       "TRANSACTION_REVENUE                  NaN                 NaN\n",
       "TRANSACTION_MARGIN                   NaN                 NaN"
      ]
     },
     "execution_count": 35,
     "metadata": {},
     "output_type": "execute_result"
    }
   ],
   "source": [
    "corr = correlation(df=df, columns=[\"TRANSACTION_REVENUE\", \"TRANSACTION_MARGIN\"])\n",
    "corr"
   ]
  },
  {
   "cell_type": "code",
   "execution_count": 36,
   "id": "1d254459",
   "metadata": {},
   "outputs": [
    {
     "data": {
      "text/html": [
       "<div>\n",
       "<style scoped>\n",
       "    .dataframe tbody tr th:only-of-type {\n",
       "        vertical-align: middle;\n",
       "    }\n",
       "\n",
       "    .dataframe tbody tr th {\n",
       "        vertical-align: top;\n",
       "    }\n",
       "\n",
       "    .dataframe thead th {\n",
       "        text-align: right;\n",
       "    }\n",
       "</style>\n",
       "<table border=\"1\" class=\"dataframe\">\n",
       "  <thead>\n",
       "    <tr style=\"text-align: right;\">\n",
       "      <th></th>\n",
       "      <th>a</th>\n",
       "      <th>b</th>\n",
       "    </tr>\n",
       "  </thead>\n",
       "  <tbody>\n",
       "    <tr>\n",
       "      <th>a</th>\n",
       "      <td>1.0</td>\n",
       "      <td>1.0</td>\n",
       "    </tr>\n",
       "    <tr>\n",
       "      <th>b</th>\n",
       "      <td>1.0</td>\n",
       "      <td>1.0</td>\n",
       "    </tr>\n",
       "  </tbody>\n",
       "</table>\n",
       "</div>"
      ],
      "text/plain": [
       "     a    b\n",
       "a  1.0  1.0\n",
       "b  1.0  1.0"
      ]
     },
     "execution_count": 36,
     "metadata": {},
     "output_type": "execute_result"
    }
   ],
   "source": [
    "correlation(df=df2, columns=[\"a\", \"b\"])"
   ]
  },
  {
   "cell_type": "code",
   "execution_count": null,
   "id": "0a830c47",
   "metadata": {},
   "outputs": [
    {
     "data": {
      "image/png": "[encoded data removed]",
      "text/plain": [
       "<Figure size 700x700 with 1 Axes>"
      ]
     },
     "metadata": {},
     "output_type": "display_data"
    }
   ],
   "source": [
    "plt.figure(figsize=(7, 7))\n",
    "heatmap = sns.scatterplot(\n",
    "    df.toPandas(),\n",
    "    x=\"TRANSACTION_REVENUE\",\n",
    "    y=\"TRANSACTION_MARGIN\")\n",
    "plt.show()"
   ]
  },
  {
   "cell_type": "markdown",
   "id": "ce40ebd9",
   "metadata": {},
   "source": [
    "# Create Dataset\n",
    "This will create an imutable, versioned dataset that can be used for reproducable\n",
    "training results"
   ]
  },
  {
   "cell_type": "code",
   "execution_count": 13,
   "id": "7de747f2",
   "metadata": {},
   "outputs": [],
   "source": [
    "from snowflake.ml import dataset"
   ]
  },
  {
   "cell_type": "code",
   "execution_count": 14,
   "id": "a4cde390",
   "metadata": {},
   "outputs": [],
   "source": [
    "ds = dataset.create_from_dataframe(\n",
    "    session=session,\n",
    "    name=\"margin_prediction_training\",\n",
    "    version=\"v1\",\n",
    "    input_dataframe=df\n",
    ")"
   ]
  },
  {
   "cell_type": "markdown",
   "id": "e8aabcd7",
   "metadata": {},
   "source": [
    "# Train Model\n",
    "https://docs.snowflake.com/en/developer-guide/snowpark-ml/reference/latest/modeling"
   ]
  },
  {
   "cell_type": "code",
   "execution_count": null,
   "id": "04a4ae04",
   "metadata": {},
   "outputs": [],
   "source": [
    "from snowflake.ml.modeling.pipeline.pipeline import Pipeline\n",
    "from snowflake.ml.modeling.preprocessing.one_hot_encoder import OneHotEncoder\n",
    "from snowflake.ml.modeling.preprocessing.standard_scaler import StandardScaler\n",
    "from snowflake.ml.modeling.xgboost.xgb_regressor import XGBRegressor"
   ]
  },
  {
   "cell_type": "code",
   "execution_count": 22,
   "id": "29a7e740",
   "metadata": {},
   "outputs": [
    {
     "name": "stderr",
     "output_type": "stream",
     "text": [
      "c:\\Users\\Andrew\\Code\\data_platform\\.venv\\lib\\site-packages\\snowflake\\ml\\modeling\\preprocessing\\one_hot_encoder.py:519: FutureWarning: DataFrameGroupBy.apply operated on the grouping columns. This behavior is deprecated, and in a future version of pandas the grouping columns will be excluded from the operation. Either pass `include_groups=False` to exclude the groupings or explicitly select the grouping columns after groupby to silence this warning.\n",
      "  .apply(lambda x: dict(zip(x[_CATEGORY], x[_COUNT])))\n",
      "Package 'snowflake-telemetry-python' is not installed in the local environment. Your UDF might not work when the package is installed on the server but not on your local environment.\n"
     ]
    }
   ],
   "source": [
    "train = ds.read.to_snowpark_dataframe()\n",
    "\n",
    "pipe = Pipeline(steps=[\n",
    "    (\"onehot\", OneHotEncoder(\n",
    "        categories=\"auto\",\n",
    "        input_cols=[\"SALES_CHANNEL\"],\n",
    "        output_cols=[\"SALES_CHANNEL\"],\n",
    "        drop_input_cols=True\n",
    "    )),\n",
    "    (\"scale\", StandardScaler(\n",
    "        input_cols=[\"TRANSACTION_REVENUE\"],\n",
    "        output_cols=[\"TRANSACTION_REVENUE\"]\n",
    "    )),\n",
    "    (\"reg\", XGBRegressor(\n",
    "        label_cols=[\"TRANSACTION_MARGIN\"],\n",
    "        output_cols=[\"TRANSACTION_MARGIN_PRED\"],\n",
    "        drop_input_cols=True\n",
    "    ))\n",
    "])\n",
    "\n",
    "pipe = pipe.fit(train)"
   ]
  },
  {
   "cell_type": "code",
   "execution_count": null,
   "id": "6e3a0d12",
   "metadata": {},
   "outputs": [
    {
     "name": "stdout",
     "output_type": "stream",
     "text": [
      "-----------------------------\n",
      "|\"TRANSACTION_MARGIN_PRED\"  |\n",
      "-----------------------------\n",
      "|50.0                       |\n",
      "|50.0                       |\n",
      "|50.0                       |\n",
      "|50.0                       |\n",
      "|50.0                       |\n",
      "|50.0                       |\n",
      "|50.0                       |\n",
      "|50.0                       |\n",
      "-----------------------------\n",
      "\n"
     ]
    }
   ],
   "source": [
    "preds = pipe.predict(df.drop(\"TRANSACTION_MARGIN\"))"
   ]
  },
  {
   "cell_type": "code",
   "execution_count": 24,
   "id": "ce3188c3",
   "metadata": {},
   "outputs": [
    {
     "data": {
      "text/plain": [
       "1.0"
      ]
     },
     "execution_count": 24,
     "metadata": {},
     "output_type": "execute_result"
    }
   ],
   "source": [
    "pipe.score(df)"
   ]
  },
  {
   "cell_type": "markdown",
   "id": "975f6932",
   "metadata": {},
   "source": [
    "# Register Model"
   ]
  },
  {
   "cell_type": "code",
   "execution_count": 25,
   "id": "61221611",
   "metadata": {},
   "outputs": [],
   "source": [
    "import pathlib\n",
    "\n",
    "from snowflake.ml.model.task import Task\n",
    "from snowflake.ml.registry import Registry\n",
    "\n",
    "pathlib.PosixPath = pathlib.PurePosixPath"
   ]
  },
  {
   "cell_type": "code",
   "execution_count": 26,
   "id": "1ba3d242",
   "metadata": {},
   "outputs": [],
   "source": [
    "registry = Registry(\n",
    "    session=session,\n",
    "    database_name=\"_dev_analytics\",\n",
    "    schema_name=\"transaction_db__astaus\"\n",
    ")"
   ]
  },
  {
   "cell_type": "code",
   "execution_count": 27,
   "id": "16df7c98",
   "metadata": {},
   "outputs": [
    {
     "name": "stdout",
     "output_type": "stream",
     "text": [
      "Logging model: creating model manifest...:  33%|███▎      | 2/6 [00:02<00:04,  1.11s/it]  "
     ]
    },
    {
     "name": "stderr",
     "output_type": "stream",
     "text": [
      "c:\\Users\\Andrew\\Code\\data_platform\\.venv\\lib\\site-packages\\snowflake\\ml\\model\\_packager\\model_packager.py:89: UserWarning: Providing model signature for Snowpark ML Modeling model is not required. Model signature will automatically be inferred during fitting. \n",
      "  handler.save_model(\n",
      "c:\\Users\\Andrew\\Code\\data_platform\\.venv\\lib\\site-packages\\sklearn\\base.py:486: UserWarning: X has feature names, but OneHotEncoder was fitted without feature names\n",
      "  warnings.warn(\n",
      "c:\\Users\\Andrew\\Code\\data_platform\\.venv\\lib\\site-packages\\sklearn\\base.py:486: UserWarning: X has feature names, but StandardScaler was fitted without feature names\n",
      "  warnings.warn(\n"
     ]
    },
    {
     "name": "stdout",
     "output_type": "stream",
     "text": [
      "Model logged successfully.: 100%|██████████| 6/6 [01:32<00:00, 15.38s/it]                          \n"
     ]
    }
   ],
   "source": [
    "model_ref = registry.log_model(\n",
    "    pipe,\n",
    "    comment=\"\",\n",
    "    metrics={},\n",
    "    task=Task.TABULAR_REGRESSION,\n",
    "    model_name=\"sfml_margin_prediction\",\n",
    "    version_name=\"v1\",\n",
    "    sample_input_data=df.drop(\"transaction_margin\"),\n",
    "    options={\n",
    "        \"relax_version\":True\n",
    "    }\n",
    ")"
   ]
  },
  {
   "cell_type": "markdown",
   "id": "6dea1a52",
   "metadata": {},
   "source": [
    "# Inference"
   ]
  },
  {
   "cell_type": "code",
   "execution_count": 28,
   "id": "ecec9f6d",
   "metadata": {},
   "outputs": [
    {
     "name": "stdout",
     "output_type": "stream",
     "text": [
      "---------------------------------------------------------------------------------------------------------\n",
      "|\"TRANSACTION_ID\"  |\"PRODUCT_ID\"  |\"SALES_CHANNEL\"  |\"TRANSACTION_REVENUE\"  |\"TRANSACTION_MARGIN_PRED\"  |\n",
      "---------------------------------------------------------------------------------------------------------\n",
      "|88888             |1556434       |store            |500.00                 |50.00                      |\n",
      "|77777             |1556434       |store            |500.00                 |50.00                      |\n",
      "|78654             |1556434       |store            |500.00                 |50.00                      |\n",
      "|12345             |1556434       |web              |500.00                 |50.00                      |\n",
      "|12345             |1556434       |web              |500.00                 |50.00                      |\n",
      "|56789             |1556434       |web              |500.00                 |50.00                      |\n",
      "|56789             |1556434       |web              |500.00                 |50.00                      |\n",
      "|99999             |1556434       |store            |500.00                 |50.00                      |\n",
      "---------------------------------------------------------------------------------------------------------\n",
      "\n"
     ]
    }
   ],
   "source": [
    "session.sql(\"\"\" --begin-sql\n",
    "\n",
    "    with ml as model _dev_analytics.transaction_db__astaus.sfml_margin_prediction\n",
    "\n",
    "    select\n",
    "        transaction_id,\n",
    "        product_id,\n",
    "        sales_channel,\n",
    "        transaction_revenue,\n",
    "            \n",
    "        ml!predict(\n",
    "            sales_channel,\n",
    "            transaction_revenue\n",
    "        ):TRANSACTION_MARGIN_PRED::number(16,2) transaction_margin_pred\n",
    "\n",
    "    from _dev_analytics.transaction_db__astaus.transactions\n",
    "\n",
    "\"\"\").show()"
   ]
  },
  {
   "cell_type": "code",
   "execution_count": 44,
   "id": "069bedc7",
   "metadata": {},
   "outputs": [
    {
     "data": {
      "text/plain": [
       "'Table MARGIN_PREDICTION_BASELINE successfully created.'"
      ]
     },
     "execution_count": 44,
     "metadata": {},
     "output_type": "execute_result"
    }
   ],
   "source": [
    "session.sql(\"\"\" --begin-sql\n",
    "\n",
    "    create or replace table\n",
    "            _dev_analytics.transaction_db__astaus.margin_prediction_baseline\n",
    "    as select * from _dev_analytics.transaction_db__astaus.transactions\n",
    "    ;\n",
    "\n",
    "\"\"\").collect()[0][0]"
   ]
  },
  {
   "cell_type": "code",
   "execution_count": 45,
   "id": "2be4db0a",
   "metadata": {},
   "outputs": [
    {
     "data": {
      "text/plain": [
       "<snowflake.snowpark.dataframe.DataFrame at 0x1d258a104f0>"
      ]
     },
     "execution_count": 45,
     "metadata": {},
     "output_type": "execute_result"
    }
   ],
   "source": [
    "session.sql(\"\"\" --begin-sql\n",
    "\n",
    "    create or replace model monitor margin_prediction_monitor with\n",
    "        model=_dev_analytics.transaction_db__astaus.sfml_margin_prediction\n",
    "        version='V1'\n",
    "        function='predict'\n",
    "        source=_dev_analytics.transaction_db__astaus.transactions\n",
    "        warehouse=compute_wh\n",
    "        id_columns=(transaction_id, product_id)\n",
    "        refresh_interval='1 day'\n",
    "        aggregation_window='1 day'\n",
    "        timestamp_column=transacted_at\n",
    "        baseline=_dev_analytics.transaction_db__astaus.margin_prediction_baseline\n",
    "        prediction_score_columns=(transaction_margin)\n",
    "    ;\n",
    "\n",
    "\"\"\")"
   ]
  }
 ],
 "metadata": {
  "kernelspec": {
   "display_name": ".venv",
   "language": "python",
   "name": "python3"
  },
  "language_info": {
   "codemirror_mode": {
    "name": "ipython",
    "version": 3
   },
   "file_extension": ".py",
   "mimetype": "text/x-python",
   "name": "python",
   "nbconvert_exporter": "python",
   "pygments_lexer": "ipython3",
   "version": "3.10.9"
  }
 },
 "nbformat": 4,
 "nbformat_minor": 5
}
