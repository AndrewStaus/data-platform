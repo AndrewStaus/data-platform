{
 "cells": [
  {
   "cell_type": "code",
   "execution_count": 4,
   "id": "8989916c",
   "metadata": {},
   "outputs": [],
   "source": [
    "from snowflake.snowpark import functions as F\n",
    "from snowpark_utils import display, session\n"
   ]
  },
  {
   "cell_type": "code",
   "execution_count": 5,
   "id": "dee43655",
   "metadata": {},
   "outputs": [],
   "source": [
    "df = (\n",
    "    session.table(\"_dev_analytics.open_data__astaus.titanic\")\n",
    "    .select(\n",
    "        F.cast(\"pclass\", \"varchar(1)\").alias(\"class\"),\n",
    "        \"age\",\n",
    "        \"survived\"\n",
    "    )\n",
    "    .filter(F.col(\"class\") < 3)\n",
    ")"
   ]
  },
  {
   "cell_type": "code",
   "execution_count": 6,
   "id": "42368958",
   "metadata": {},
   "outputs": [
    {
     "data": {
      "application/vnd.jupyter.widget-view+json": {
       "model_id": "f850bc0f64f6494d8981891c4b6e46a5",
       "version_major": 2,
       "version_minor": 0
      },
      "text/plain": [
       "Box(children=(HTML(value='\\n<div id=\"ifr-pyg-000640970a5e220de81d9kl5aYtSyMFf\" style=\"height: auto\">\\n    <hea…"
      ]
     },
     "metadata": {},
     "output_type": "display_data"
    },
    {
     "data": {
      "text/html": [
       "<script>\n",
       "    window.addEventListener(\"message\", function(event) {\n",
       "        const backgroundMap = {\n",
       "            \"dark\": \"hsl(240 10% 3.9%)\",\n",
       "            \"light\": \"hsl(0 0 100%)\",\n",
       "        };\n",
       "        const colorMap = {\n",
       "            \"dark\": \"hsl(0 0% 98%)\",\n",
       "            \"light\": \"hsl(240 10% 3.9%)\",\n",
       "        };\n",
       "        if (event.data.action === \"changeAppearance\" && event.data.gid === \"000640970a5e220de81d9kl5aYtSyMFf\") {\n",
       "            var iframe = document.getElementById(\"gwalker-000640970a5e220de81d9kl5aYtSyMFf\");\n",
       "            iframe.style.background  = backgroundMap[event.data.appearance];\n",
       "            iframe.style.color = colorMap[event.data.appearance];\n",
       "        }\n",
       "    });\n",
       "</script>"
      ],
      "text/plain": [
       "<IPython.core.display.HTML object>"
      ]
     },
     "metadata": {},
     "output_type": "display_data"
    },
    {
     "data": {
      "text/html": [],
      "text/plain": [
       "<IPython.core.display.HTML object>"
      ]
     },
     "metadata": {},
     "output_type": "display_data"
    }
   ],
   "source": [
    "display(df)"
   ]
  },
  {
   "cell_type": "code",
   "execution_count": 6,
   "id": "33e5d535",
   "metadata": {},
   "outputs": [],
   "source": [
    "from snowpark_utils import _display_snowpark"
   ]
  },
  {
   "cell_type": "code",
   "execution_count": 9,
   "id": "f554c8dd",
   "metadata": {},
   "outputs": [],
   "source": [
    "from pygwalker.data_parsers.database_parser import Connector"
   ]
  },
  {
   "cell_type": "code",
   "execution_count": 10,
   "id": "fd1e0d5a",
   "metadata": {},
   "outputs": [
    {
     "ename": "TypeError",
     "evalue": "Engine.connect() takes 1 positional argument but 2 were given",
     "output_type": "error",
     "traceback": [
      "\u001b[1;31m---------------------------------------------------------------------------\u001b[0m",
      "\u001b[1;31mTypeError\u001b[0m                                 Traceback (most recent call last)",
      "Cell \u001b[1;32mIn[10], line 19\u001b[0m\n\u001b[0;32m     16\u001b[0m \u001b[38;5;28msetattr\u001b[39m(existing_snowflake_connection,\u001b[38;5;124m\"\u001b[39m\u001b[38;5;124m_interpolate_empty_sequences\u001b[39m\u001b[38;5;124m\"\u001b[39m, \u001b[38;5;28;01mFalse\u001b[39;00m)  \u001b[38;5;66;03m# noqa: B010\u001b[39;00m\n\u001b[0;32m     17\u001b[0m existing_snowflake_connection\u001b[38;5;241m.\u001b[39m_paramstyle \u001b[38;5;241m=\u001b[39m \u001b[38;5;124m\"\u001b[39m\u001b[38;5;124mpyformat\u001b[39m\u001b[38;5;124m\"\u001b[39m\n\u001b[1;32m---> 19\u001b[0m conn \u001b[38;5;241m=\u001b[39m \u001b[43mConnector\u001b[49m\u001b[43m(\u001b[49m\n\u001b[0;32m     20\u001b[0m \u001b[43m    \u001b[49m\u001b[43mconn_url\u001b[49m\u001b[43m,\u001b[49m\n\u001b[0;32m     21\u001b[0m \u001b[43m    \u001b[49m\u001b[43msql\u001b[49m\u001b[43m,\u001b[49m\n\u001b[0;32m     22\u001b[0m \u001b[43m    \u001b[49m\u001b[43mengine_params\u001b[49m\u001b[38;5;241;43m=\u001b[39;49m\u001b[43m{\u001b[49m\u001b[38;5;124;43m\"\u001b[39;49m\u001b[38;5;124;43mcreator\u001b[39;49m\u001b[38;5;124;43m\"\u001b[39;49m\u001b[43m:\u001b[49m\u001b[43m \u001b[49m\u001b[38;5;28;43;01mlambda\u001b[39;49;00m\u001b[43m:\u001b[49m\u001b[43m \u001b[49m\u001b[43mexisting_snowflake_connection\u001b[49m\u001b[43m}\u001b[49m\n\u001b[0;32m     23\u001b[0m \u001b[43m)\u001b[49m\n",
      "File \u001b[1;32mc:\\Users\\Andrew\\.conda\\envs\\snowpark\\lib\\site-packages\\pygwalker\\data_parsers\\database_parser.py:65\u001b[0m, in \u001b[0;36mConnector.__init__\u001b[1;34m(self, url, view_sql, engine_params)\u001b[0m\n\u001b[0;32m     62\u001b[0m \u001b[38;5;28;01mif\u001b[39;00m engine_params \u001b[38;5;129;01mis\u001b[39;00m \u001b[38;5;28;01mNone\u001b[39;00m:\n\u001b[0;32m     63\u001b[0m     engine_params \u001b[38;5;241m=\u001b[39m {}\n\u001b[1;32m---> 65\u001b[0m \u001b[38;5;28;43mself\u001b[39;49m\u001b[38;5;241;43m.\u001b[39;49m\u001b[43m_init_instance\u001b[49m\u001b[43m(\u001b[49m\u001b[38;5;28;43mself\u001b[39;49m\u001b[38;5;241;43m.\u001b[39;49m\u001b[43m_get_or_create_engine\u001b[49m\u001b[43m(\u001b[49m\u001b[43murl\u001b[49m\u001b[43m,\u001b[49m\u001b[43m \u001b[49m\u001b[43mengine_params\u001b[49m\u001b[43m)\u001b[49m\u001b[43m,\u001b[49m\u001b[43m \u001b[49m\u001b[43mview_sql\u001b[49m\u001b[43m)\u001b[49m\n",
      "File \u001b[1;32mc:\\Users\\Andrew\\.conda\\envs\\snowpark\\lib\\site-packages\\pygwalker\\data_parsers\\database_parser.py:96\u001b[0m, in \u001b[0;36mConnector._init_instance\u001b[1;34m(self, engine, view_sql)\u001b[0m\n\u001b[0;32m     94\u001b[0m \u001b[38;5;28mself\u001b[39m\u001b[38;5;241m.\u001b[39m_json_type_code_set \u001b[38;5;241m=\u001b[39m \u001b[38;5;28mself\u001b[39m\u001b[38;5;241m.\u001b[39mJSON_TYPE_CODE_SET_MAP\u001b[38;5;241m.\u001b[39mget(\u001b[38;5;28mself\u001b[39m\u001b[38;5;241m.\u001b[39mdialect_name, \u001b[38;5;28mset\u001b[39m())\n\u001b[0;32m     95\u001b[0m \u001b[38;5;28mself\u001b[39m\u001b[38;5;241m.\u001b[39m_existing_conn \u001b[38;5;241m=\u001b[39m \u001b[38;5;28;01mNone\u001b[39;00m \n\u001b[1;32m---> 96\u001b[0m \u001b[38;5;28;43mself\u001b[39;49m\u001b[38;5;241;43m.\u001b[39;49m\u001b[43m_run_pre_init_sql\u001b[49m\u001b[43m(\u001b[49m\u001b[43mengine\u001b[49m\u001b[43m)\u001b[49m\n",
      "File \u001b[1;32mc:\\Users\\Andrew\\.conda\\envs\\snowpark\\lib\\site-packages\\pygwalker\\data_parsers\\database_parser.py:109\u001b[0m, in \u001b[0;36mConnector._run_pre_init_sql\u001b[1;34m(self, engine)\u001b[0m\n\u001b[0;32m    107\u001b[0m \u001b[38;5;28;01mif\u001b[39;00m engine\u001b[38;5;241m.\u001b[39mdialect\u001b[38;5;241m.\u001b[39mname \u001b[38;5;129;01min\u001b[39;00m \u001b[38;5;28mself\u001b[39m\u001b[38;5;241m.\u001b[39mPRE_INIT_SQL_MAP:\n\u001b[0;32m    108\u001b[0m     pre_init_sql \u001b[38;5;241m=\u001b[39m \u001b[38;5;28mself\u001b[39m\u001b[38;5;241m.\u001b[39mPRE_INIT_SQL_MAP[engine\u001b[38;5;241m.\u001b[39mdialect\u001b[38;5;241m.\u001b[39mname]\n\u001b[1;32m--> 109\u001b[0m     \u001b[38;5;28;01mwith\u001b[39;00m \u001b[43mengine\u001b[49m\u001b[38;5;241;43m.\u001b[39;49m\u001b[43mconnect\u001b[49m\u001b[43m(\u001b[49m\u001b[38;5;28;43;01mTrue\u001b[39;49;00m\u001b[43m)\u001b[49m \u001b[38;5;28;01mas\u001b[39;00m connection:\n\u001b[0;32m    110\u001b[0m         connection\u001b[38;5;241m.\u001b[39mexecute(text(pre_init_sql))\n",
      "\u001b[1;31mTypeError\u001b[0m: Engine.connect() takes 1 positional argument but 2 were given"
     ]
    }
   ],
   "source": [
    "sql = df.queries[\"queries\"][0]\n",
    "\n",
    "account = session.get_current_account() or ''\n",
    "user = session.get_current_user() or ''\n",
    "schema = session.get_current_schema() or ''\n",
    "database = session.get_current_database() or ''\n",
    "opts = \"\"\n",
    "if session.get_current_warehouse() is not None:\n",
    "    opts += f\"&warehouse={session.get_current_warehouse()}\"\n",
    "if session.get_current_role() is not None:\n",
    "    opts += f\"&role={session.get_current_role()}\"\n",
    "\n",
    "conn_url = f\"snowflake://{user}@{account}/{database}/{schema}?{opts}\"\n",
    "\n",
    "existing_snowflake_connection = session._conn._conn\n",
    "setattr(existing_snowflake_connection,\"_interpolate_empty_sequences\", False)  # noqa: B010\n",
    "existing_snowflake_connection._paramstyle = \"pyformat\"\n",
    "\n",
    "conn = Connector(\n",
    "    conn_url,\n",
    "    sql,\n",
    "    engine_params={\"creator\": lambda: existing_snowflake_connection}\n",
    ")"
   ]
  },
  {
   "cell_type": "code",
   "execution_count": null,
   "id": "10287c86",
   "metadata": {},
   "outputs": [],
   "source": []
  }
 ],
 "metadata": {
  "kernelspec": {
   "display_name": "snowpark",
   "language": "python",
   "name": "python3"
  },
  "language_info": {
   "codemirror_mode": {
    "name": "ipython",
    "version": 3
   },
   "file_extension": ".py",
   "mimetype": "text/x-python",
   "name": "python",
   "nbconvert_exporter": "python",
   "pygments_lexer": "ipython3",
   "version": "3.10.18"
  }
 },
 "nbformat": 4,
 "nbformat_minor": 5
}
