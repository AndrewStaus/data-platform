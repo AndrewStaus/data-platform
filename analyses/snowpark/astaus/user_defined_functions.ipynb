{
 "cells": [
  {
   "cell_type": "code",
   "execution_count": 6,
   "id": "61e100af",
   "metadata": {},
   "outputs": [
    {
     "name": "stdout",
     "output_type": "stream",
     "text": [
      "session_id: 14413629421\n",
      "version: 1.37.0\n",
      "database: \"_DEV_ANALYTICS\"\n",
      "schema: \"ASTAUS\"\n",
      "user: \"astaus\"\n"
     ]
    }
   ],
   "source": [
    "from config import get_snowpark_session\n",
    "from snowflake.snowpark import functions as F\n",
    "\n",
    "session = get_snowpark_session()"
   ]
  },
  {
   "cell_type": "code",
   "execution_count": 2,
   "id": "3eb72a0e",
   "metadata": {},
   "outputs": [],
   "source": [
    "from faker import Faker\n",
    "\n",
    "session.add_packages([\"faker\"])"
   ]
  },
  {
   "cell_type": "code",
   "execution_count": 3,
   "id": "24fb2543",
   "metadata": {},
   "outputs": [],
   "source": [
    "fake = Faker()\n",
    "\n",
    "@F.udf\n",
    "def syn_first_name(col: str) -> str:\n",
    "    fake.seed_locale(\"en_US\", col)\n",
    "    return fake.first_name()\n",
    "\n",
    "@F.udf\n",
    "def syn_last_name(col: str) -> str:\n",
    "    fake.seed_locale(\"en_US\", col)\n",
    "    return fake.last_name()"
   ]
  },
  {
   "cell_type": "code",
   "execution_count": 4,
   "id": "c7e4c203",
   "metadata": {},
   "outputs": [
    {
     "name": "stdout",
     "output_type": "stream",
     "text": [
      "-------------------------------------------------------------------------------------------------------------------------------------------------------------------------------------------------------------------------------------------\n",
      "|\"ACCOUNT_ID\"                            |\"ACCOUNT_FIRST_NAME\"              |\"ACCOUNT_LAST_NAME\"               |\"ACCOUNT_EMAIL\"                   |\"INDVIDUAL_PARTY_KEY\"  |\"UPDATED_AT\"                |\"_LOADED_AT\"                      |\n",
      "-------------------------------------------------------------------------------------------------------------------------------------------------------------------------------------------------------------------------------------------\n",
      "|{028ff034-56ba-11f0-8960-325096b39f47}  |34b7da764b21d298ef307d04d8152dc5  |a66e44736e753d4533746ced572ca821  |f4135240818cba1d2ce7ea3c0430f3ba  |AGFSDGFSD              |2025-07-02 03:47:14.803742  |2025-08-27 18:25:13.952988+00:00  |\n",
      "|{82278e27-39fb-46da-bd11-d4ea78c26334}  |3011cf8191156ed63ae4a5341fb26dc1  |b993e4526238d62f6b1b90e605532ff8  |8ac38a6cdd9ab3f79a9dd86f3441ee78  |BHGDFHTYR              |2025-07-02 03:47:14.803742  |2025-08-27 18:25:13.952988+00:00  |\n",
      "|{14658546-d7dc-41ec-aa53-f340266d9d7b}  |ac575e3eecf0fa410518c2d3a2e7209f  |ee7e4705dd4ac06adfe650c2cdc39bdd  |c0a12803a49f272200077048960d5156  |CHGFDREWF              |2025-07-02 03:47:14.803742  |2025-08-27 18:25:13.952988+00:00  |\n",
      "|{673c0869-b70a-495b-bbd3-53e15f537126}  |6c63212ab48e8401eaf6b59b95d816a9  |8f06f77111787fbbf4c9c95812cc32b2  |ccd0e2e84a092b9a5b772a51dcb5b172  |DHHTRWFFD              |2025-07-02 03:47:14.803742  |2025-08-27 18:25:13.952988+00:00  |\n",
      "|{c3eeac07-89bd-4d91-b561-21262f8e17aa}  |a70f9e38ff015afaa9ab0aacabee2e13  |ee7e4705dd4ac06adfe650c2cdc39bdd  |6552cae4139506628079a7d500933e4f  |EJUYTTRHG              |2025-07-02 03:47:14.803742  |2025-08-27 18:25:13.952988+00:00  |\n",
      "-------------------------------------------------------------------------------------------------------------------------------------------------------------------------------------------------------------------------------------------\n",
      "\n"
     ]
    }
   ],
   "source": [
    "df = session.table([\"_dev_analytics\", \"accounts_db__astaus\", \"accounts\"])\n",
    "df.show()"
   ]
  },
  {
   "cell_type": "code",
   "execution_count": 5,
   "id": "42ecc382",
   "metadata": {},
   "outputs": [
    {
     "name": "stdout",
     "output_type": "stream",
     "text": [
      "---------------------------------------------------------------------------------------------------------------\n",
      "|\"ACCOUNT_ID\"                            |\"ACCOUNT_FIRST_NAME\"  |\"ACCOUNT_LAST_NAME\"  |\"INDVIDUAL_PARTY_KEY\"  |\n",
      "---------------------------------------------------------------------------------------------------------------\n",
      "|{028ff034-56ba-11f0-8960-325096b39f47}  |connor                |mccullough           |AGFSDGFSD              |\n",
      "|{82278e27-39fb-46da-bd11-d4ea78c26334}  |rebecca               |herring              |BHGDFHTYR              |\n",
      "|{14658546-d7dc-41ec-aa53-f340266d9d7b}  |david                 |burns                |CHGFDREWF              |\n",
      "|{673c0869-b70a-495b-bbd3-53e15f537126}  |tracy                 |schneider            |DHHTRWFFD              |\n",
      "|{c3eeac07-89bd-4d91-b561-21262f8e17aa}  |erika                 |burns                |EJUYTTRHG              |\n",
      "---------------------------------------------------------------------------------------------------------------\n",
      "\n"
     ]
    }
   ],
   "source": [
    "(df\n",
    "    .with_column(\n",
    "        \"account_first_name\",\n",
    "        F.lower(syn_first_name(F.col(\"account_first_name\")))\n",
    "    )\n",
    "    .with_column(\n",
    "        \"account_last_name\",\n",
    "        F.lower(syn_last_name(F.col(\"account_last_name\")))\n",
    "    )\n",
    "    .select(\n",
    "        \"account_id\",\n",
    "        \"account_first_name\",\n",
    "        \"account_last_name\",\n",
    "        \"indvidual_party_key\",\n",
    "    )\n",
    ").show()"
   ]
  }
 ],
 "metadata": {
  "kernelspec": {
   "display_name": ".venv",
   "language": "python",
   "name": "python3"
  },
  "language_info": {
   "codemirror_mode": {
    "name": "ipython",
    "version": 3
   },
   "file_extension": ".py",
   "mimetype": "text/x-python",
   "name": "python",
   "nbconvert_exporter": "python",
   "pygments_lexer": "ipython3",
   "version": "3.10.9"
  }
 },
 "nbformat": 4,
 "nbformat_minor": 5
}
